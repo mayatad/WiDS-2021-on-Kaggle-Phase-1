{
 "cells": [
  {
   "cell_type": "markdown",
   "metadata": {},
   "source": [
    "# HPO -  Your Code Starts Here"
   ]
  },
  {
   "cell_type": "markdown",
   "metadata": {},
   "source": [
    "## #1 - LogReg "
   ]
  },
  {
   "cell_type": "code",
   "execution_count": null,
   "metadata": {},
   "outputs": [],
   "source": [
    "from sklearn.decomposition import PCA\n",
    "from sklearn.pipeline import make_pipeline\n",
    "from sklearn.linear_model import LogisticRegression\n",
    "\n",
    "solver=['liblinear','saga']\n",
    "penalty=['l1','l2']\n",
    "C_param_range = [0.001,0.01,0.05, 0.1, 0.5, 0.75,1,10,100]"
   ]
  },
  {
   "cell_type": "markdown",
   "metadata": {},
   "source": [
    "### 1.1 LogReg + No PCA"
   ]
  },
  {
   "cell_type": "code",
   "execution_count": null,
   "metadata": {},
   "outputs": [],
   "source": [
    "print('No PCA')\n",
    "for i in solver:\n",
    "    print('Solver='+str(i))\n",
    "    for j in penalty:\n",
    "        print('penalty='+str(j))\n",
    "        for k in C_param_range: \n",
    "            model = LogisticRegression(solver=i,penalty =j, C =k)\n",
    "            model.fit(x_trn, y_trn)\n",
    "            auc = roc_auc_score(y_val, model.predict_proba(x_val)[:, 1])\n",
    "            print('C='+ str(k) + '; ' + 'Auc='+ str(auc))"
   ]
  },
  {
   "cell_type": "markdown",
   "metadata": {},
   "source": [
    "### 1.2 LogReg + PCA=1024"
   ]
  },
  {
   "cell_type": "code",
   "execution_count": null,
   "metadata": {},
   "outputs": [],
   "source": [
    "print('PCA=1024')\n",
    "for i in solver:\n",
    "    print('Solver='+str(i))\n",
    "    for j in penalty:\n",
    "        print('penalty='+str(j))\n",
    "        for k in C_param_range: \n",
    "            model = make_pipeline(PCA(1024), LogisticRegression(solver=i,penalty =j, C =k ))\n",
    "            model.fit(x_trn, y_trn)\n",
    "            auc = roc_auc_score(y_val, model.predict_proba(x_val)[:, 1])\n",
    "            print('C='+ str(k) + '; ' + 'Auc='+ str(auc))            "
   ]
  },
  {
   "cell_type": "markdown",
   "metadata": {},
   "source": [
    "### 1.3 LogReg + PCA=750"
   ]
  },
  {
   "cell_type": "code",
   "execution_count": null,
   "metadata": {},
   "outputs": [],
   "source": [
    "print('PCA=750')\n",
    "for i in solver:\n",
    "    print('Solver='+str(i))\n",
    "    for j in penalty:\n",
    "        print('penalty='+str(j))\n",
    "        for k in C_param_range: \n",
    "            model = make_pipeline(PCA(750), LogisticRegression(solver=i,penalty =j, C =k ))\n",
    "            model.fit(x_trn, y_trn)\n",
    "            auc = roc_auc_score(y_val, model.predict_proba(x_val)[:, 1])\n",
    "            print('C='+ str(k) + '; ' + 'Auc='+ str(auc))"
   ]
  },
  {
   "cell_type": "markdown",
   "metadata": {},
   "source": [
    "### LogReg -  Results from Runs 1.1, 1.2, 1.3 (view as 'code' (not 'markdown')):"
   ]
  },
  {
   "cell_type": "code",
   "execution_count": null,
   "metadata": {},
   "outputs": [],
   "source": [
    "No PCA\n",
    "Solver=liblinear\n",
    "penalty=l1\n",
    "C=0.001; Auc=0.7799801302870909\n",
    "C=0.01; Auc=0.837548211673602\n",
    "C=0.05; Auc=0.8488070423911005\n",
    "C=0.1; Auc=0.8504361882119661\n",
    "C=0.5; Auc=0.8521201818579762\n",
    "C=0.75; Auc=0.8521793217430882\n",
    "C=1; Auc=0.8521830914428166\n",
    "C=10; Auc=0.8518343898649577\n",
    "C=100; Auc=0.8517589349283661\n",
    "penalty=l2\n",
    "C=0.001; Auc=0.8329528258208935\n",
    "C=0.01; Auc=0.8464657280317485\n",
    "C=0.05; Auc=0.8507525121609816\n",
    "C=0.1; Auc=0.8516895219585443\n",
    "C=0.5; Auc=0.8522223642268206\n",
    "C=0.75; Auc=0.852190334838137\n",
    "C=1; Auc=0.8521384905843696\n",
    "C=10; Auc=0.8517783231992543\n",
    "C=100; Auc=0.8516029755728681\n",
    "Solver=saga\n",
    "penalty=l1\n",
    "C=0.001; Auc=0.7802504125339992\n",
    "C=0.01; Auc=0.836320321223688\n",
    "C=0.05; Auc=0.8483234935174224\n",
    "C=0.1; Auc=0.8502230957052761\n",
    "C=0.5; Auc=0.8520894670758954\n",
    "C=0.75; Auc=0.8521549666969229\n",
    "C=1; Auc=0.852212056318095\n",
    "C=10; Auc=0.8518661537205195\n",
    "C=100; Auc=0.8518553190985525\n",
    "penalty=l2\n",
    "C=0.001; Auc=0.8329282792426405\n",
    "C=0.01; Auc=0.8464474105993508\n",
    "C=0.05; Auc=0.8507108931089018\n",
    "C=0.1; Auc=0.8516370291074797\n",
    "C=0.5; Auc=0.8521527074888874\n",
    "C=0.75; Auc=0.8520534895144017\n",
    "C=1; Auc=0.85205512189015\n",
    "C=10; Auc=0.8518555585136622\n",
    "C=100; Auc=0.8518530729495227\n",
    "PCA=1024\n",
    "Solver=liblinear\n",
    "penalty=l1\n",
    "C=0.001; Auc=0.7517064551363073\n",
    "C=0.01; Auc=0.8330863846281222\n",
    "C=0.05; Auc=0.8464977922444479\n",
    "C=0.1; Auc=0.8496735596743467\n",
    "C=0.5; Auc=0.8519649015707895\n",
    "C=0.75; Auc=0.852085845378235\n",
    "C=1; Auc=0.8521739066086057\n",
    "C=10; Auc=0.8516774119069928\n",
    "C=100; Auc=0.851512337365316\n",
    "penalty=l2\n",
    "C=0.001; Auc=0.8338952768709507\n",
    "C=0.01; Auc=0.8465720805765048\n",
    "C=0.05; Auc=0.8507804932578094\n",
    "C=0.1; Auc=0.851698889618839\n",
    "C=0.5; Auc=0.852243798408647\n",
    "C=0.75; Auc=0.8522009126329864\n",
    "C=1; Auc=0.8521485199009675\n",
    "C=10; Auc=0.8517922353936325\n",
    "C=100; Auc=0.8515746723538928\n",
    "Solver=saga\n",
    "penalty=l1\n",
    "C=0.001; Auc=0.7515139392700503\n",
    "C=0.01; Auc=0.8330245763527868\n",
    "C=0.05; Auc=0.8464862306711477\n",
    "C=0.1; Auc=0.8496714484683789\n",
    "C=0.5; Auc=0.8519657460531768\n",
    "C=0.75; Auc=0.8520576031012874\n",
    "C=1; Auc=0.8521347121786376\n",
    "C=10; Auc=0.8518750381975925\n",
    "C=100; Auc=0.8518110577742612\n",
    "penalty=l2\n",
    "C=0.001; Auc=0.8329229729332077\n",
    "C=0.01; Auc=0.8464440326698023\n",
    "C=0.05; Auc=0.8507695454577904\n",
    "C=0.1; Auc=0.8516795013479506\n",
    "C=0.5; Auc=0.8522242055466648\n",
    "C=0.75; Auc=0.8521986011889268\n",
    "C=1; Auc=0.8521564162465874\n",
    "C=10; Auc=0.8518098345807006\n",
    "C=100; Auc=0.8518064566511518\n",
    "PCA=750\n",
    "Solver=liblinear\n",
    "penalty=l1\n",
    "C=0.001; Auc=0.7517062723102235\n",
    "C=0.01; Auc=0.833086454276154\n",
    "C=0.05; Auc=0.8464975484763361\n",
    "C=0.1; Auc=0.8496735335563346\n",
    "C=0.5; Auc=0.8519651888689211\n",
    "C=0.75; Auc=0.852085793142211\n",
    "C=1; Auc=0.8521741416707136\n",
    "C=10; Auc=0.851677028842817\n",
    "C=100; Auc=0.8515124418373637\n",
    "penalty=l2\n",
    "C=0.001; Auc=0.8338952159289228\n",
    "C=0.01; Auc=0.8465725071707002\n",
    "C=0.05; Auc=0.8507797445414662\n",
    "C=0.1; Auc=0.8516987590287792\n",
    "C=0.5; Auc=0.8522459226736208\n",
    "C=0.75; Auc=0.8522014088752139\n",
    "C=1; Auc=0.8521485286069717\n",
    "C=10; Auc=0.8517916172673491"
   ]
  },
  {
   "cell_type": "markdown",
   "metadata": {},
   "source": [
    "## #2 - Adaboost"
   ]
  },
  {
   "cell_type": "code",
   "execution_count": null,
   "metadata": {},
   "outputs": [],
   "source": [
    "from sklearn.ensemble import AdaBoostClassifier\n",
    "\n",
    "n_estimators = [100,200,500,1000,1500,2000]\n",
    "\n",
    "for i in n_estimators:\n",
    "    model = AdaBoostClassifier(n_estimators=i)\n",
    "    model.fit(x_trn, y_trn)\n",
    "    auc = roc_auc_score(y_val, model.predict_proba(x_val)[:, 1])\n",
    "    print('n_estimators='+ str(i) + '; ' + 'Auc='+ str(auc))"
   ]
  },
  {
   "cell_type": "markdown",
   "metadata": {},
   "source": [
    "### Adaboost Results from My Run (view as 'code' (not 'markdown')):"
   ]
  },
  {
   "cell_type": "code",
   "execution_count": null,
   "metadata": {},
   "outputs": [],
   "source": [
    "n_estimators=100; Auc=0.8583751801925175\n",
    "n_estimators=200; Auc=0.8639377464996205\n",
    "n_estimators=500; Auc=0.8669493361062537\n",
    "n_estimators=1000; Auc=0.8663221294607171\n",
    "n_estimators=1500; Auc=0.8650252918121949"
   ]
  },
  {
   "cell_type": "markdown",
   "metadata": {},
   "source": [
    "## #3 - RandomForest RandomSearch "
   ]
  },
  {
   "cell_type": "code",
   "execution_count": null,
   "metadata": {},
   "outputs": [],
   "source": [
    "# Random Hyperparameter Grid\n",
    "\n",
    "from sklearn.model_selection import RandomizedSearchCV\n",
    "\n",
    "# Number of trees in random forest\n",
    "n_estimators = [int(x) for x in np.linspace(start = 200, stop = 2000, num = 10)]\n",
    "# Number of features to consider at every split\n",
    "max_features = ['auto', 'sqrt']\n",
    "# Maximum number of levels in tree\n",
    "max_depth = [int(x) for x in np.linspace(10, 110, num = 11)]\n",
    "max_depth.append(None)\n",
    "# Minimum number of samples required to split a node\n",
    "min_samples_split = [2, 5, 10]\n",
    "# Minimum number of samples required at each leaf node\n",
    "min_samples_leaf = [1, 2, 4]\n",
    "# Method of selecting samples for training each tree\n",
    "bootstrap = [True, False]\n",
    "# Create the random grid\n",
    "random_grid = {'n_estimators': n_estimators,\n",
    "               'max_features': max_features,\n",
    "               'max_depth': max_depth,\n",
    "               'min_samples_split': min_samples_split,\n",
    "               'min_samples_leaf': min_samples_leaf,\n",
    "               'bootstrap': bootstrap}\n",
    "print(random_grid)"
   ]
  },
  {
   "cell_type": "code",
   "execution_count": null,
   "metadata": {},
   "outputs": [],
   "source": [
    "# Random Search Training - use the random grid to search for best hyperparameters\n",
    "\n",
    "from sklearn.ensemble import RandomForestClassifier\n",
    "rf=RandomForestClassifier()\n",
    "rf_random = RandomizedSearchCV(estimator = rf, param_distributions = random_grid, n_iter = 100,scoring='roc_auc',cv = 3, verbose=2, random_state=42, n_jobs = -1)\n",
    "rf_random.fit(x_trn, y_trn)\n",
    "rf_random.best_params_"
   ]
  },
  {
   "cell_type": "code",
   "execution_count": null,
   "metadata": {},
   "outputs": [],
   "source": [
    "# best rf model\n",
    "best_rf_model = RandomForestClassifier(**rf_random.best_params_)"
   ]
  },
  {
   "cell_type": "code",
   "execution_count": null,
   "metadata": {},
   "outputs": [],
   "source": [
    "auc = roc_auc_score(y_val, best_rf_model.predict_proba(x_val)[:, 1])\n",
    "print(auc)"
   ]
  },
  {
   "cell_type": "markdown",
   "metadata": {},
   "source": [
    "## #4 - RandomForest GridSearch"
   ]
  },
  {
   "cell_type": "code",
   "execution_count": null,
   "metadata": {},
   "outputs": [],
   "source": [
    "from sklearn.model_selection import GridSearchCV\n",
    "from sklearn.ensemble import RandomForestClassifier\n",
    "\n",
    "# Create the parameter grid \n",
    "param_grid = {'bootstrap': [True],\n",
    "              'max_features': ['auto', 'sqrt'],\n",
    "              'n_estimators': [500, 1000,1500,2000]}\n",
    "\n",
    "# Create a based model\n",
    "rf = RandomForestClassifier()\n",
    "\n",
    "# Instantiate the grid search model\n",
    "grid_search = GridSearchCV(estimator = rf, param_grid = param_grid,scoring='roc_auc',cv = 3, n_jobs = -1, verbose = 2)"
   ]
  },
  {
   "cell_type": "code",
   "execution_count": null,
   "metadata": {},
   "outputs": [],
   "source": [
    "# fitting best model\n",
    "grid_search.fit(x_trn, y_trn)\n",
    "\n",
    "# best params\n",
    "print('Best Params: ' + str(grid_search.best_params_) + 'Best Score: ' + str(grid.best_score_))"
   ]
  },
  {
   "cell_type": "code",
   "execution_count": null,
   "metadata": {},
   "outputs": [],
   "source": [
    "# fitting best params in model\n",
    "rf_best = RandomForestClassifier(**grid_search.best_params_)"
   ]
  },
  {
   "cell_type": "code",
   "execution_count": null,
   "metadata": {},
   "outputs": [],
   "source": [
    "# best model result\n",
    "auc = roc_auc_score(y_val, rf_best.predict_proba(x_val)[:, 1])\n",
    "print(auc)"
   ]
  },
  {
   "cell_type": "markdown",
   "metadata": {},
   "source": [
    "## #5 - SVM_RBF_Small_Range_HPO"
   ]
  },
  {
   "cell_type": "code",
   "execution_count": null,
   "metadata": {},
   "outputs": [],
   "source": [
    "#SVM Kernel 'rbf' model with GridSearch\n",
    "from sklearn.svm import SVC\n",
    "from sklearn.model_selection import GridSearchCV\n",
    "\n",
    "#SVM_rbf\n",
    "\n",
    "# Create the parameter grid\n",
    "param_grid_rbf = {'C': [0.1, 1, 10, 100, 1000],\n",
    "'gamma': [1, 0.1, 0.01, 0.001, 0.0001], \n",
    "'kernel': ['rbf']}\n",
    "\n",
    "grid_search_rbf = GridSearchCV(SVC(), param_grid_rbf, scoring='roc_auc', refit = True, verbose = 3)\n",
    "\n",
    "# fitting the model for grid search \n",
    "grid_search_rbf.fit(x_trn, y_trn)\n",
    "\n",
    "# best params\n",
    "print('Best Params: ' + str(grid_search_rbf.best_params_) + 'Best Score: ' + str(grid_search_rbf.best_score_))\n",
    "\n",
    "# fitting best params in model\n",
    "svc_rbf_best = SVC(**grid_search_rbf.best_params_)\n",
    "\n",
    "# best model result\n",
    "auc = roc_auc_score(y_val, svc_rbf_best.predict_proba(x_val)[:, 1])\n",
    "print(auc)"
   ]
  },
  {
   "cell_type": "markdown",
   "metadata": {},
   "source": [
    "## #6 - SVM_Poly_Small_Range_HPO"
   ]
  },
  {
   "cell_type": "code",
   "execution_count": null,
   "metadata": {},
   "outputs": [],
   "source": [
    "#SVM Kernel 'poly' model with GridSearch\n",
    "from sklearn.svm import SVC\n",
    "from sklearn.model_selection import GridSearchCV"
   ]
  },
  {
   "cell_type": "code",
   "execution_count": null,
   "metadata": {},
   "outputs": [],
   "source": [
    "#SVM_poly\n",
    "\n",
    "# Create the parameter grid\n",
    "param_grid_poly = {'C': [0.1, 1, 10, 100, 1000],\n",
    "'gamma': [1, 0.1, 0.01, 0.001, 0.0001], \n",
    "'degree': [0, 1, 2, 3, 4, 5, 6],                  \n",
    "'kernel': ['poly']}\n",
    "\n",
    "grid_search_poly = GridSearchCV(SVC(), param_grid_poly, scoring='roc_auc', refit = True, verbose = 3)\n",
    "\n",
    "# fitting the model for grid search \n",
    "grid_search_poly.fit(x_trn, y_trn)\n",
    "\n",
    "# best params\n",
    "print('Best Params: ' + str(grid_search_poly.best_params_) + 'Best Score: ' + str(grid_search_poly.best_score_))\n",
    "\n",
    "# fitting best params in model\n",
    "svc_poly_best = SVC(**grid_search_poly.best_params_)\n",
    "\n",
    "# best model result\n",
    "auc = roc_auc_score(y_val, svc_poly_best.predict_proba(x_val)[:, 1])\n",
    "print(auc)"
   ]
  },
  {
   "cell_type": "markdown",
   "metadata": {},
   "source": [
    "## #7 - SVM_RBF_Wide_Range_HPO"
   ]
  },
  {
   "cell_type": "code",
   "execution_count": null,
   "metadata": {},
   "outputs": [],
   "source": [
    "#SVM model with GridSearch\n",
    "from sklearn.svm import SVC\n",
    "from sklearn.model_selection import GridSearchCV\n",
    "from sklearn.model_selection import StratifiedShuffleSplit\n",
    "import numpy as np"
   ]
  },
  {
   "cell_type": "code",
   "execution_count": null,
   "metadata": {},
   "outputs": [],
   "source": [
    "#SVM rbf\n",
    "\n",
    "# Create the parameter grid \n",
    "C_range = np.logspace(-2, 10, 13)\n",
    "gamma_range = np.logspace(-9, 3, 13)\n",
    "param_grid = dict(gamma=gamma_range, C=C_range)\n",
    "\n",
    "cv = StratifiedShuffleSplit(n_splits=5, test_size=0.2, random_state=42)\n",
    "\n",
    "grid_search = GridSearchCV(SVC(kernel='rbf'), param_grid=param_grid, cv=cv, scoring='roc_auc', refit = True, verbose = 3)\n",
    "\n",
    "# fitting the model for grid search \n",
    "grid_search.fit(x_trn, y_trn)\n",
    "\n",
    "# best params\n",
    "print('Best Params: ' + str(grid_search.best_params_) + 'Best Score: ' + str(grid_search.best_score_))\n",
    "\n",
    "# fitting best params in model\n",
    "svc_best = SVC(**grid_search.best_params_)\n",
    "\n",
    "# best model result\n",
    "auc = roc_auc_score(y_val, svc_best.predict_proba(x_val)[:, 1])\n",
    "print(auc)"
   ]
  },
  {
   "cell_type": "markdown",
   "metadata": {},
   "source": [
    "## #8- SVM_Poly_Wide_Range_HPO"
   ]
  },
  {
   "cell_type": "code",
   "execution_count": null,
   "metadata": {},
   "outputs": [],
   "source": [
    "#SVM model with GridSearch\n",
    "from sklearn.svm import SVC\n",
    "from sklearn.model_selection import GridSearchCV\n",
    "from sklearn.model_selection import StratifiedShuffleSplit\n",
    "import numpy as np"
   ]
  },
  {
   "cell_type": "code",
   "execution_count": null,
   "metadata": {},
   "outputs": [],
   "source": [
    "#SVM poly\n",
    "\n",
    "# Create the parameter grid \n",
    "C_range = np.logspace(-2, 10, 13)\n",
    "gamma_range = np.logspace(-9, 3, 13)\n",
    "degree=np.linspace(0,6,7)\n",
    "\n",
    "param_grid = dict(gamma=gamma_range, C=C_range,degree=degree)\n",
    "\n",
    "\n",
    "cv = StratifiedShuffleSplit(n_splits=5, test_size=0.2, random_state=42)\n",
    "\n",
    "grid_search = GridSearchCV(SVC(kernel='poly'), param_grid=param_grid, cv=cv, scoring='roc_auc', refit = True, verbose = 3)\n",
    "\n",
    "# fitting the model for grid search \n",
    "grid_search.fit(x_trn, y_trn)\n",
    "\n",
    "# best params\n",
    "print('Best Params: ' + str(grid_search.best_params_) + 'Best Score: ' + str(grid_search.best_score_))\n",
    "\n",
    "# fitting best params in model\n",
    "svc_best = SVC(**grid_search.best_params_)\n",
    "\n",
    "# best model result\n",
    "auc = roc_auc_score(y_val, svc_best.predict_proba(x_val)[:, 1])\n",
    "print(auc)"
   ]
  }
 ],
 "metadata": {
  "kernelspec": {
   "display_name": "Python 3",
   "language": "python",
   "name": "python3"
  },
  "language_info": {
   "codemirror_mode": {
    "name": "ipython",
    "version": 3
   },
   "file_extension": ".py",
   "mimetype": "text/x-python",
   "name": "python",
   "nbconvert_exporter": "python",
   "pygments_lexer": "ipython3",
   "version": "3.7.4"
  }
 },
 "nbformat": 4,
 "nbformat_minor": 2
}
